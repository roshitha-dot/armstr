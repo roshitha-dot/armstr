{
 "cells": [
  {
   "cell_type": "code",
   "execution_count": 15,
   "id": "fa1d88b4-691a-4d7f-a4ec-89eebec48872",
   "metadata": {},
   "outputs": [
    {
     "name": "stdin",
     "output_type": "stream",
     "text": [
      "enter a number 370\n"
     ]
    }
   ],
   "source": [
    "n= int(input(\"enter a number\"))\n",
    "s=0\n",
    "r=0\n",
    "m=int(n)"
   ]
  },
  {
   "cell_type": "code",
   "execution_count": 16,
   "id": "677ab6dd-17cf-49f7-89cd-768bf08a3577",
   "metadata": {},
   "outputs": [],
   "source": [
    "while(n>0):\n",
    "    r=n%10\n",
    "    s=s+r*r*r\n",
    "    n=n/10"
   ]
  },
  {
   "cell_type": "code",
   "execution_count": 14,
   "id": "af213456-219a-4ca7-80ff-3813ebc51487",
   "metadata": {},
   "outputs": [
    {
     "name": "stdout",
     "output_type": "stream",
     "text": [
      "not armstrong no:\n"
     ]
    }
   ],
   "source": [
    "if(s==m):\n",
    "    print(\"armstrong no:\")\n",
    "else:\n",
    "    print(\"not armstrong no:\")"
   ]
  },
  {
   "cell_type": "code",
   "execution_count": null,
   "id": "23cd360d-0324-4cd2-9e16-afe61c92a4f1",
   "metadata": {},
   "outputs": [],
   "source": []
  }
 ],
 "metadata": {
  "kernelspec": {
   "display_name": "Python 3 (ipykernel)",
   "language": "python",
   "name": "python3"
  },
  "language_info": {
   "codemirror_mode": {
    "name": "ipython",
    "version": 3
   },
   "file_extension": ".py",
   "mimetype": "text/x-python",
   "name": "python",
   "nbconvert_exporter": "python",
   "pygments_lexer": "ipython3",
   "version": "3.12.4"
  }
 },
 "nbformat": 4,
 "nbformat_minor": 5
}
